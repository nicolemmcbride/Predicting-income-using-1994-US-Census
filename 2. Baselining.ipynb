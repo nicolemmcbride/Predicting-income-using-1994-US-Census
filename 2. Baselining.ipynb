{
 "cells": [
  {
   "cell_type": "code",
   "execution_count": 1,
   "id": "84470099",
   "metadata": {},
   "outputs": [],
   "source": [
    "from sklearn.datasets import load_iris\n",
    "from sklearn import metrics\n",
    "import pandas as pd\n",
    "import numpy as np\n",
    "import seaborn as sns\n",
    "import matplotlib.pyplot as plt\n",
    "from sklearn.neighbors import KNeighborsClassifier\n",
    "from sklearn.linear_model import LogisticRegression\n",
    "from sklearn.tree import DecisionTreeClassifier\n",
    "from sklearn.neural_network import MLPClassifier\n",
    "from sklearn.tree import DecisionTreeClassifier\n",
    "from sklearn.model_selection import train_test_split\n",
    "from sklearn.metrics import precision_score, recall_score, precision_recall_curve,f1_score, fbeta_score\n",
    "from sklearn.preprocessing import StandardScaler\n",
    "from sklearn.model_selection import GridSearchCV, cross_val_score, StratifiedKFold, learning_curve\n",
    "from sklearn.ensemble import RandomForestClassifier, AdaBoostClassifier,GradientBoostingClassifier, ExtraTreesClassifier, VotingClassifier\n",
    "from sklearn.metrics import accuracy_score, confusion_matrix, classification_report\n",
    "from sklearn.metrics import roc_auc_score, roc_curve"
   ]
  },
  {
   "cell_type": "code",
   "execution_count": 2,
   "id": "59be4bda",
   "metadata": {},
   "outputs": [],
   "source": [
    "df = pd.read_pickle(\"df_cl_dummies.pkl\")"
   ]
  },
  {
   "cell_type": "code",
   "execution_count": 3,
   "id": "2a2d75ce",
   "metadata": {},
   "outputs": [
    {
     "name": "stdout",
     "output_type": "stream",
     "text": [
      "<class 'pandas.core.frame.DataFrame'>\n",
      "Int64Index: 32545 entries, 0 to 32560\n",
      "Data columns (total 86 columns):\n",
      " #   Column                                      Non-Null Count  Dtype\n",
      "---  ------                                      --------------  -----\n",
      " 0   age                                         32545 non-null  int64\n",
      " 1   fnlwgt                                      32545 non-null  int64\n",
      " 2   education-num                               32545 non-null  int64\n",
      " 3   capital-gain                                32545 non-null  int64\n",
      " 4   capital-loss                                32545 non-null  int64\n",
      " 5   hours-per-week                              32545 non-null  int64\n",
      " 6   salary                                      32545 non-null  int64\n",
      " 7   workclass_ Local-gov                        32545 non-null  uint8\n",
      " 8   workclass_ Never-worked                     32545 non-null  uint8\n",
      " 9   workclass_ Private                          32545 non-null  uint8\n",
      " 10  workclass_ Self-emp-inc                     32545 non-null  uint8\n",
      " 11  workclass_ Self-emp-not-inc                 32545 non-null  uint8\n",
      " 12  workclass_ State-gov                        32545 non-null  uint8\n",
      " 13  workclass_ Without-pay                      32545 non-null  uint8\n",
      " 14  workclass_missing                           32545 non-null  uint8\n",
      " 15  marital-status_ Married-AF-spouse           32545 non-null  uint8\n",
      " 16  marital-status_ Married-civ-spouse          32545 non-null  uint8\n",
      " 17  marital-status_ Married-spouse-absent       32545 non-null  uint8\n",
      " 18  marital-status_ Never-married               32545 non-null  uint8\n",
      " 19  marital-status_ Separated                   32545 non-null  uint8\n",
      " 20  marital-status_ Widowed                     32545 non-null  uint8\n",
      " 21  occupation_ Armed-Forces                    32545 non-null  uint8\n",
      " 22  occupation_ Craft-repair                    32545 non-null  uint8\n",
      " 23  occupation_ Exec-managerial                 32545 non-null  uint8\n",
      " 24  occupation_ Farming-fishing                 32545 non-null  uint8\n",
      " 25  occupation_ Handlers-cleaners               32545 non-null  uint8\n",
      " 26  occupation_ Machine-op-inspct               32545 non-null  uint8\n",
      " 27  occupation_ Other-service                   32545 non-null  uint8\n",
      " 28  occupation_ Priv-house-serv                 32545 non-null  uint8\n",
      " 29  occupation_ Prof-specialty                  32545 non-null  uint8\n",
      " 30  occupation_ Protective-serv                 32545 non-null  uint8\n",
      " 31  occupation_ Sales                           32545 non-null  uint8\n",
      " 32  occupation_ Tech-support                    32545 non-null  uint8\n",
      " 33  occupation_ Transport-moving                32545 non-null  uint8\n",
      " 34  occupation_missing                          32545 non-null  uint8\n",
      " 35  relationship_ Not-in-family                 32545 non-null  uint8\n",
      " 36  relationship_ Other-relative                32545 non-null  uint8\n",
      " 37  relationship_ Own-child                     32545 non-null  uint8\n",
      " 38  relationship_ Unmarried                     32545 non-null  uint8\n",
      " 39  relationship_ Wife                          32545 non-null  uint8\n",
      " 40  race_ Asian-Pac-Islander                    32545 non-null  uint8\n",
      " 41  race_ Black                                 32545 non-null  uint8\n",
      " 42  race_ Other                                 32545 non-null  uint8\n",
      " 43  race_ White                                 32545 non-null  uint8\n",
      " 44  sex_ Male                                   32545 non-null  uint8\n",
      " 45  native-country_ Canada                      32545 non-null  uint8\n",
      " 46  native-country_ China                       32545 non-null  uint8\n",
      " 47  native-country_ Columbia                    32545 non-null  uint8\n",
      " 48  native-country_ Cuba                        32545 non-null  uint8\n",
      " 49  native-country_ Dominican-Republic          32545 non-null  uint8\n",
      " 50  native-country_ Ecuador                     32545 non-null  uint8\n",
      " 51  native-country_ El-Salvador                 32545 non-null  uint8\n",
      " 52  native-country_ England                     32545 non-null  uint8\n",
      " 53  native-country_ France                      32545 non-null  uint8\n",
      " 54  native-country_ Germany                     32545 non-null  uint8\n",
      " 55  native-country_ Greece                      32545 non-null  uint8\n",
      " 56  native-country_ Guatemala                   32545 non-null  uint8\n",
      " 57  native-country_ Haiti                       32545 non-null  uint8\n",
      " 58  native-country_ Holand-Netherlands          32545 non-null  uint8\n",
      " 59  native-country_ Honduras                    32545 non-null  uint8\n",
      " 60  native-country_ Hong                        32545 non-null  uint8\n",
      " 61  native-country_ Hungary                     32545 non-null  uint8\n",
      " 62  native-country_ India                       32545 non-null  uint8\n",
      " 63  native-country_ Iran                        32545 non-null  uint8\n",
      " 64  native-country_ Ireland                     32545 non-null  uint8\n",
      " 65  native-country_ Italy                       32545 non-null  uint8\n",
      " 66  native-country_ Jamaica                     32545 non-null  uint8\n",
      " 67  native-country_ Japan                       32545 non-null  uint8\n",
      " 68  native-country_ Laos                        32545 non-null  uint8\n",
      " 69  native-country_ Mexico                      32545 non-null  uint8\n",
      " 70  native-country_ Nicaragua                   32545 non-null  uint8\n",
      " 71  native-country_ Outlying-US(Guam-USVI-etc)  32545 non-null  uint8\n",
      " 72  native-country_ Peru                        32545 non-null  uint8\n",
      " 73  native-country_ Philippines                 32545 non-null  uint8\n",
      " 74  native-country_ Poland                      32545 non-null  uint8\n",
      " 75  native-country_ Portugal                    32545 non-null  uint8\n",
      " 76  native-country_ Puerto-Rico                 32545 non-null  uint8\n",
      " 77  native-country_ Scotland                    32545 non-null  uint8\n",
      " 78  native-country_ South                       32545 non-null  uint8\n",
      " 79  native-country_ Taiwan                      32545 non-null  uint8\n",
      " 80  native-country_ Thailand                    32545 non-null  uint8\n",
      " 81  native-country_ Trinadad&Tobago             32545 non-null  uint8\n",
      " 82  native-country_ United-States               32545 non-null  uint8\n",
      " 83  native-country_ Vietnam                     32545 non-null  uint8\n",
      " 84  native-country_ Yugoslavia                  32545 non-null  uint8\n",
      " 85  native-country_missing                      32545 non-null  uint8\n",
      "dtypes: int64(7), uint8(79)\n",
      "memory usage: 4.4 MB\n"
     ]
    }
   ],
   "source": [
    "df.info()"
   ]
  },
  {
   "cell_type": "markdown",
   "id": "7d6581e1",
   "metadata": {},
   "source": [
    "# 2.1 Split Training and Test Datasets\n",
    "\n",
    "Going to split the data into 60% train, 20% validation, 20% test."
   ]
  },
  {
   "cell_type": "code",
   "execution_count": 4,
   "id": "fee5929d",
   "metadata": {},
   "outputs": [],
   "source": [
    "X_train, X_test, y_train, y_test = train_test_split(df.drop('salary',axis=1), df['salary'], test_size=0.2, random_state=41)\n",
    "\n",
    "#.8*.25\n",
    "X_train, X_val, y_train, y_val = train_test_split(X_train, y_train, test_size=0.25, random_state=41) \n"
   ]
  },
  {
   "cell_type": "code",
   "execution_count": 5,
   "id": "ba570fe7",
   "metadata": {},
   "outputs": [
    {
     "name": "stdout",
     "output_type": "stream",
     "text": [
      "Shape of training feature: (19527, 85)\n",
      "Shape of validation feature: (6509, 85)\n",
      "Shape of testing feature: (6509, 85)\n",
      "Shape of training label: (19527,)\n",
      "Shape of validation label: (6509,)\n",
      "Shape of test label: (6509,)\n"
     ]
    }
   ],
   "source": [
    "print('Shape of training feature:', X_train.shape)\n",
    "print('Shape of validation feature:', X_val.shape)\n",
    "print('Shape of testing feature:', X_test.shape)\n",
    "print('Shape of training label:', y_train.shape)\n",
    "print('Shape of validation label:', y_val.shape)\n",
    "print('Shape of test label:', y_test.shape)"
   ]
  },
  {
   "cell_type": "markdown",
   "id": "f08f26e8",
   "metadata": {},
   "source": [
    "# 2.2 Fitting BL Models"
   ]
  },
  {
   "cell_type": "code",
   "execution_count": 6,
   "id": "4cbe22d2",
   "metadata": {},
   "outputs": [],
   "source": [
    "#fitting standard scaler to numeric features\n",
    "num_cols = ['age', 'fnlwgt', 'education-num', 'capital-gain', 'capital-loss', 'hours-per-week']\n",
    "std_scale = StandardScaler() #transforming \n",
    "X_train[num_cols] = std_scale.fit_transform(X_train[num_cols])\n",
    "X_val[num_cols] = std_scale.transform(X_val[num_cols])\n",
    "X_test[num_cols] = std_scale.transform(X_test[num_cols])"
   ]
  },
  {
   "cell_type": "code",
   "execution_count": 7,
   "id": "ece36f91",
   "metadata": {},
   "outputs": [
    {
     "name": "stderr",
     "output_type": "stream",
     "text": [
      "/Users/nicole/opt/anaconda3/lib/python3.9/site-packages/sklearn/linear_model/_logistic.py:763: ConvergenceWarning: lbfgs failed to converge (status=1):\n",
      "STOP: TOTAL NO. of ITERATIONS REACHED LIMIT.\n",
      "\n",
      "Increase the number of iterations (max_iter) or scale the data as shown in:\n",
      "    https://scikit-learn.org/stable/modules/preprocessing.html\n",
      "Please also refer to the documentation for alternative solver options:\n",
      "    https://scikit-learn.org/stable/modules/linear_model.html#logistic-regression\n",
      "  n_iter_i = _check_optimize_result(\n"
     ]
    }
   ],
   "source": [
    "#fitting LR\n",
    "logit = LogisticRegression()\n",
    "logit.fit(X_train, y_train)\n",
    "y_predict_tr = logit.predict(X_train) \n",
    "y_predict_val = logit.predict(X_val)\n",
    "# using the default threshold of 0.5, which is what vanilla predict does"
   ]
  },
  {
   "cell_type": "code",
   "execution_count": 8,
   "id": "41256fc6",
   "metadata": {},
   "outputs": [
    {
     "name": "stdout",
     "output_type": "stream",
     "text": [
      "LOGISTIC REGRESSION\n",
      "Accuracy on tr set:  85.28%\n",
      "Accuracy on val set:  84.67%\n",
      "\n",
      "Precision on the tr set (threshold=0.5): 0.7382\n",
      "Precision on the val set (threshold=0.5): 0.7226\n",
      "\n",
      "Recall on tr set (threshold=0.5): 0.6068\n",
      "Recall on val set (threshold=0.5): 0.6075\n"
     ]
    }
   ],
   "source": [
    "print(\"LOGISTIC REGRESSION\")\n",
    "print(\"Accuracy on tr set: {:6.2f}%\".format(100*logit.score(X_train, y_train)))\n",
    "print(\"Accuracy on val set: {:6.2f}%\".format(100*logit.score(X_val, y_val)))\n",
    "print(\"\")\n",
    "print(\"Precision on the tr set (threshold=0.5): {:6.4f}\".format(precision_score(y_train, y_predict_tr))) \n",
    "print(\"Precision on the val set (threshold=0.5): {:6.4f}\".format(precision_score(y_val, y_predict_val)))\n",
    "print(\"\")\n",
    "print(\"Recall on tr set (threshold=0.5): {:6.4f}\".format(recall_score(y_train, y_predict_tr))) \n",
    "print(\"Recall on val set (threshold=0.5): {:6.4f}\".format(recall_score(y_val, y_predict_val)))\n"
   ]
  },
  {
   "cell_type": "code",
   "execution_count": 9,
   "id": "48ae9dde",
   "metadata": {},
   "outputs": [
    {
     "name": "stdout",
     "output_type": "stream",
     "text": [
      "              precision    recall  f1-score   support\n",
      "\n",
      "           0       0.88      0.92      0.90      4914\n",
      "           1       0.72      0.61      0.66      1595\n",
      "\n",
      "    accuracy                           0.85      6509\n",
      "   macro avg       0.80      0.77      0.78      6509\n",
      "weighted avg       0.84      0.85      0.84      6509\n",
      "\n"
     ]
    }
   ],
   "source": [
    "print(classification_report(y_val, y_predict_val))"
   ]
  },
  {
   "cell_type": "code",
   "execution_count": 10,
   "id": "5942321d",
   "metadata": {},
   "outputs": [],
   "source": [
    "# Instantiate model with 100 decision trees\n",
    "rf = RandomForestClassifier(n_estimators = 100, random_state = 42)\n",
    "\n",
    "# Train the model on training data\n",
    "# Use the forest's predict method on the test data\n",
    "rf.fit(X_train, y_train)\n",
    "y_predict_rf_tr = rf.predict(X_train) \n",
    "y_predict_rf_val = rf.predict(X_val)"
   ]
  },
  {
   "cell_type": "code",
   "execution_count": 11,
   "id": "2440952f",
   "metadata": {},
   "outputs": [
    {
     "name": "stdout",
     "output_type": "stream",
     "text": [
      "RANDOM FOREST\n",
      "Accuracy on tr set:  99.99%\n",
      "Accuracy on val set:  85.01%\n",
      "\n",
      "Precision on the tr set: 1.0000\n",
      "Precision on the val set: 0.7339\n",
      "\n",
      "Recall on tr set: 0.9998\n",
      "Recall on val set: 0.6088\n"
     ]
    }
   ],
   "source": [
    "print(\"RANDOM FOREST\")\n",
    "print(\"Accuracy on tr set: {:6.2f}%\".format(100*rf.score(X_train, y_train)))\n",
    "print(\"Accuracy on val set: {:6.2f}%\".format(100*rf.score(X_val, y_val)))\n",
    "print(\"\")\n",
    "print(\"Precision on the tr set: {:6.4f}\".format(precision_score(y_train, y_predict_rf_tr))) \n",
    "print(\"Precision on the val set: {:6.4f}\".format(precision_score(y_val, y_predict_rf_val)))\n",
    "print(\"\")\n",
    "print(\"Recall on tr set: {:6.4f}\".format(recall_score(y_train, y_predict_rf_tr))) \n",
    "print(\"Recall on val set: {:6.4f}\".format(recall_score(y_val, y_predict_rf_val)))\n"
   ]
  },
  {
   "cell_type": "code",
   "execution_count": 12,
   "id": "76fd2306",
   "metadata": {},
   "outputs": [
    {
     "name": "stdout",
     "output_type": "stream",
     "text": [
      "              precision    recall  f1-score   support\n",
      "\n",
      "           0       0.88      0.93      0.90      4914\n",
      "           1       0.73      0.61      0.67      1595\n",
      "\n",
      "    accuracy                           0.85      6509\n",
      "   macro avg       0.81      0.77      0.78      6509\n",
      "weighted avg       0.84      0.85      0.85      6509\n",
      "\n"
     ]
    }
   ],
   "source": [
    "print(classification_report(y_val, y_predict_rf_val))"
   ]
  },
  {
   "cell_type": "code",
   "execution_count": 13,
   "id": "ff0a72fc",
   "metadata": {},
   "outputs": [
    {
     "name": "stderr",
     "output_type": "stream",
     "text": [
      "/Users/nicole/opt/anaconda3/lib/python3.9/site-packages/sklearn/linear_model/_logistic.py:763: ConvergenceWarning: lbfgs failed to converge (status=1):\n",
      "STOP: TOTAL NO. of ITERATIONS REACHED LIMIT.\n",
      "\n",
      "Increase the number of iterations (max_iter) or scale the data as shown in:\n",
      "    https://scikit-learn.org/stable/modules/preprocessing.html\n",
      "Please also refer to the documentation for alternative solver options:\n",
      "    https://scikit-learn.org/stable/modules/linear_model.html#logistic-regression\n",
      "  n_iter_i = _check_optimize_result(\n"
     ]
    }
   ],
   "source": [
    "#AUC-ROC curve is a performance metric for binary classification problem at different thresholds.\n",
    "#ROC is a probability curve and AUC represents the degree or measure of separability.\n",
    "#It tells how much model is capable of distinguishing between classes. \n",
    "#Higher the AUC, better the model is at predicting 0s as 0s and 1s as 1s.\n",
    "\n",
    "\n",
    "#this function below was taken from the following site:\n",
    "#https://www.imranabdullah.com/2019-06-01/Drawing-multiple-ROC-Curves-in-a-single-plot\n",
    "classifiers = [LogisticRegression(random_state=41), \n",
    "               RandomForestClassifier(random_state=41)]\n",
    "\n",
    "# Define a result table as a DataFrame\n",
    "result_table = pd.DataFrame(columns=['classifiers', 'fpr','tpr','auc'])\n",
    "\n",
    "# Train the models and record the results\n",
    "for cls in classifiers:\n",
    "    model = cls.fit(X_train, y_train)\n",
    "    yproba = model.predict_proba(X_val)[::,1]\n",
    "    \n",
    "    fpr, tpr, _ = roc_curve(y_val,  yproba)\n",
    "    auc = roc_auc_score(y_val, yproba)\n",
    "    \n",
    "    result_table = result_table.append({'classifiers':cls.__class__.__name__,\n",
    "                                        'fpr':fpr, \n",
    "                                        'tpr':tpr, \n",
    "                                        'auc':auc}, ignore_index=True)\n",
    "\n",
    "# Set name of the classifiers as index labels\n",
    "result_table.set_index('classifiers', inplace=True)"
   ]
  },
  {
   "cell_type": "code",
   "execution_count": 14,
   "id": "e06fdcc2",
   "metadata": {},
   "outputs": [
    {
     "data": {
      "image/png": "[encoded data removed]",
      "text/plain": [
       "<Figure size 576x432 with 1 Axes>"
      ]
     },
     "metadata": {
      "needs_background": "light"
     },
     "output_type": "display_data"
    }
   ],
   "source": [
    "#this graph below was taken from the following site:\n",
    "#https://www.imranabdullah.com/2019-06-01/Drawing-multiple-ROC-Curves-in-a-single-plot\n",
    "fig = plt.figure(figsize=(8,6))\n",
    "\n",
    "for i in result_table.index:\n",
    "    plt.plot(result_table.loc[i]['fpr'], \n",
    "             result_table.loc[i]['tpr'], \n",
    "             label=\"{}, AUC={:.3f}\".format(i, result_table.loc[i]['auc']))\n",
    "    \n",
    "plt.plot([0,1], [0,1], color='orange', linestyle='--')\n",
    "\n",
    "plt.xticks(np.arange(0.0, 1.1, step=0.1))\n",
    "plt.xlabel(\"False Positive Rate\", fontsize=15)\n",
    "\n",
    "plt.yticks(np.arange(0.0, 1.1, step=0.1))\n",
    "plt.ylabel(\"True Positive Rate\", fontsize=15)\n",
    "\n",
    "plt.title('ROC Curve Analysis', fontweight='bold', fontsize=15)\n",
    "plt.legend(prop={'size':13}, loc='lower right')\n",
    "\n",
    "plt.show()"
   ]
  }
 ],
 "metadata": {
  "kernelspec": {
   "display_name": "Python 3 (classification)",
   "language": "python",
   "name": "classification"
  },
  "language_info": {
   "codemirror_mode": {
    "name": "ipython",
    "version": 3
   },
   "file_extension": ".py",
   "mimetype": "text/x-python",
   "name": "python",
   "nbconvert_exporter": "python",
   "pygments_lexer": "ipython3",
   "version": "3.9.7"
  }
 },
 "nbformat": 4,
 "nbformat_minor": 5
}
