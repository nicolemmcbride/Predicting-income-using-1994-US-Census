{
 "cells": [
  {
   "cell_type": "code",
   "execution_count": 1,
   "id": "84470099",
   "metadata": {},
   "outputs": [],
   "source": [
    "from sklearn.datasets import load_iris\n",
    "from sklearn import metrics\n",
    "import pandas as pd\n",
    "import numpy as np\n",
    "import seaborn as sns\n",
    "import matplotlib.pyplot as plt\n",
    "from sklearn.neighbors import KNeighborsClassifier\n",
    "from sklearn.linear_model import LogisticRegression\n",
    "from sklearn.tree import DecisionTreeClassifier\n",
    "from sklearn.neural_network import MLPClassifier\n",
    "from sklearn.tree import DecisionTreeClassifier\n",
    "from sklearn.model_selection import train_test_split\n",
    "from sklearn.metrics import precision_score, recall_score, precision_recall_curve,f1_score, fbeta_score\n",
    "from sklearn.preprocessing import StandardScaler\n",
    "from sklearn.model_selection import GridSearchCV, cross_val_score, StratifiedKFold, learning_curve\n",
    "from sklearn.ensemble import RandomForestClassifier, AdaBoostClassifier,GradientBoostingClassifier, ExtraTreesClassifier, VotingClassifier\n",
    "from sklearn.metrics import accuracy_score, confusion_matrix, classification_report\n",
    "from sklearn.metrics import roc_auc_score, roc_curve"
   ]
  },
  {
   "cell_type": "markdown",
   "id": "b9f64af0",
   "metadata": {},
   "source": [
    "# 3. New data cleaning & One-hot encoding again"
   ]
  },
  {
   "cell_type": "code",
   "execution_count": 2,
   "id": "b10c3cf5",
   "metadata": {},
   "outputs": [],
   "source": [
    "df = pd.read_pickle(\"df_cl_nodummies.pkl\")"
   ]
  },
  {
   "cell_type": "code",
   "execution_count": 3,
   "id": "4e30396a",
   "metadata": {},
   "outputs": [
    {
     "name": "stdout",
     "output_type": "stream",
     "text": [
      "<class 'pandas.core.frame.DataFrame'>\n",
      "Int64Index: 32545 entries, 0 to 32560\n",
      "Data columns (total 14 columns):\n",
      " #   Column          Non-Null Count  Dtype \n",
      "---  ------          --------------  ----- \n",
      " 0   age             32545 non-null  int64 \n",
      " 1   workclass       32545 non-null  object\n",
      " 2   fnlwgt          32545 non-null  int64 \n",
      " 3   education-num   32545 non-null  int64 \n",
      " 4   marital-status  32545 non-null  object\n",
      " 5   occupation      32545 non-null  object\n",
      " 6   relationship    32545 non-null  object\n",
      " 7   race            32545 non-null  object\n",
      " 8   sex             32545 non-null  object\n",
      " 9   capital-gain    32545 non-null  int64 \n",
      " 10  capital-loss    32545 non-null  int64 \n",
      " 11  hours-per-week  32545 non-null  int64 \n",
      " 12  native-country  32545 non-null  object\n",
      " 13  salary          32545 non-null  int64 \n",
      "dtypes: int64(7), object(7)\n",
      "memory usage: 3.7+ MB\n"
     ]
    }
   ],
   "source": [
    "df.info()"
   ]
  },
  {
   "cell_type": "code",
   "execution_count": 4,
   "id": "b351f483",
   "metadata": {},
   "outputs": [
    {
     "name": "stdout",
     "output_type": "stream",
     "text": [
      "workclass [' State-gov' ' Self-emp-not-inc' ' Private' ' Federal-gov' ' Local-gov'\n",
      " 'missing' ' Self-emp-inc' ' Without-pay' ' Never-worked']\n",
      "marital-status [' Never-married' ' Married-civ-spouse' ' Divorced'\n",
      " ' Married-spouse-absent' ' Separated' ' Married-AF-spouse' ' Widowed']\n",
      "occupation [' Adm-clerical' ' Exec-managerial' ' Handlers-cleaners' ' Prof-specialty'\n",
      " ' Other-service' ' Sales' ' Craft-repair' ' Transport-moving'\n",
      " ' Farming-fishing' ' Machine-op-inspct' ' Tech-support' 'missing'\n",
      " ' Protective-serv' ' Armed-Forces' ' Priv-house-serv']\n",
      "relationship [' Not-in-family' ' Husband' ' Wife' ' Own-child' ' Unmarried'\n",
      " ' Other-relative']\n",
      "race [' White' ' Black' ' Asian-Pac-Islander' ' Amer-Indian-Eskimo' ' Other']\n",
      "sex [' Male' ' Female']\n",
      "native-country [' United-States' ' Cuba' ' Jamaica' ' India' 'missing' ' Mexico' ' South'\n",
      " ' Puerto-Rico' ' Honduras' ' England' ' Canada' ' Germany' ' Iran'\n",
      " ' Philippines' ' Italy' ' Poland' ' Columbia' ' Cambodia' ' Thailand'\n",
      " ' Ecuador' ' Laos' ' Taiwan' ' Haiti' ' Portugal' ' Dominican-Republic'\n",
      " ' El-Salvador' ' France' ' Guatemala' ' China' ' Japan' ' Yugoslavia'\n",
      " ' Peru' ' Outlying-US(Guam-USVI-etc)' ' Scotland' ' Trinadad&Tobago'\n",
      " ' Greece' ' Nicaragua' ' Vietnam' ' Hong' ' Ireland' ' Hungary'\n",
      " ' Holand-Netherlands']\n"
     ]
    }
   ],
   "source": [
    "for feature in df.select_dtypes(include='object'):\n",
    "    print(feature, df[feature].unique())"
   ]
  },
  {
   "cell_type": "markdown",
   "id": "0c0d0e89",
   "metadata": {},
   "source": [
    "### 3.1 Data cleaning\n",
    "- marital-status: changing married to married\n",
    "- native-country: changing to USA or other"
   ]
  },
  {
   "cell_type": "code",
   "execution_count": 5,
   "id": "a22246e8",
   "metadata": {},
   "outputs": [
    {
     "data": {
      "text/plain": [
       " Married-civ-spouse       14969\n",
       " Never-married            10679\n",
       " Divorced                  4443\n",
       " Separated                 1025\n",
       " Widowed                    988\n",
       " Married-spouse-absent      418\n",
       " Married-AF-spouse           23\n",
       "Name: marital-status, dtype: int64"
      ]
     },
     "execution_count": 5,
     "metadata": {},
     "output_type": "execute_result"
    }
   ],
   "source": [
    "df[\"marital-status\"].value_counts()"
   ]
  },
  {
   "cell_type": "code",
   "execution_count": 6,
   "id": "1ed23c7f",
   "metadata": {},
   "outputs": [],
   "source": [
    "df['marital-status'].replace(['Married-civ-spouse', 'Married-AF-spouse'], 'married' , inplace=True , regex = True)"
   ]
  },
  {
   "cell_type": "code",
   "execution_count": 7,
   "id": "55577183",
   "metadata": {},
   "outputs": [
    {
     "data": {
      "text/plain": [
       " United-States                 29156\n",
       " Mexico                          643\n",
       "missing                          582\n",
       " Philippines                     198\n",
       " Germany                         137\n",
       " Canada                          121\n",
       " Puerto-Rico                     114\n",
       " El-Salvador                     106\n",
       " India                           100\n",
       " Cuba                             95\n",
       " England                          90\n",
       " Jamaica                          81\n",
       " South                            80\n",
       " China                            75\n",
       " Italy                            73\n",
       " Dominican-Republic               70\n",
       " Vietnam                          67\n",
       " Guatemala                        64\n",
       " Japan                            62\n",
       " Poland                           60\n",
       " Columbia                         59\n",
       " Taiwan                           51\n",
       " Haiti                            44\n",
       " Iran                             43\n",
       " Portugal                         37\n",
       " Nicaragua                        34\n",
       " Peru                             31\n",
       " France                           29\n",
       " Greece                           29\n",
       " Ecuador                          27\n",
       " Ireland                          24\n",
       " Hong                             20\n",
       " Cambodia                         19\n",
       " Trinadad&Tobago                  19\n",
       " Laos                             18\n",
       " Thailand                         18\n",
       " Yugoslavia                       16\n",
       " Outlying-US(Guam-USVI-etc)       14\n",
       " Honduras                         13\n",
       " Hungary                          13\n",
       " Scotland                         12\n",
       " Holand-Netherlands                1\n",
       "Name: native-country, dtype: int64"
      ]
     },
     "execution_count": 7,
     "metadata": {},
     "output_type": "execute_result"
    }
   ],
   "source": [
    "df['native-country'].value_counts()"
   ]
  },
  {
   "cell_type": "code",
   "execution_count": 8,
   "id": "e1984073",
   "metadata": {},
   "outputs": [],
   "source": [
    "for i in df['native-country'] :\n",
    "    if i != ' United-States':\n",
    "        df['native-country'].replace([i] , 'Others' , inplace = True)"
   ]
  },
  {
   "cell_type": "code",
   "execution_count": 9,
   "id": "71351c48",
   "metadata": {},
   "outputs": [
    {
     "data": {
      "text/plain": [
       " United-States    29156\n",
       "Others             3389\n",
       "Name: native-country, dtype: int64"
      ]
     },
     "execution_count": 9,
     "metadata": {},
     "output_type": "execute_result"
    }
   ],
   "source": [
    "df[\"native-country\"].value_counts()"
   ]
  },
  {
   "cell_type": "code",
   "execution_count": 10,
   "id": "076f2dfb",
   "metadata": {},
   "outputs": [
    {
     "data": {
      "text/plain": [
       "1    29156\n",
       "0     3389\n",
       "Name: native-country, dtype: int64"
      ]
     },
     "execution_count": 10,
     "metadata": {},
     "output_type": "execute_result"
    }
   ],
   "source": [
    "df[\"native-country\"] = df[\"native-country\"].replace(' United-States', 1)\n",
    "df[\"native-country\"] = df[\"native-country\"].replace('Others', 0)\n",
    "df[\"native-country\"].value_counts()"
   ]
  },
  {
   "cell_type": "code",
   "execution_count": 11,
   "id": "59b6b2d4",
   "metadata": {},
   "outputs": [
    {
     "data": {
      "text/plain": [
       " Male      21775\n",
       " Female    10770\n",
       "Name: sex, dtype: int64"
      ]
     },
     "execution_count": 11,
     "metadata": {},
     "output_type": "execute_result"
    }
   ],
   "source": [
    "df[\"sex\"].value_counts()"
   ]
  },
  {
   "cell_type": "code",
   "execution_count": 12,
   "id": "a47d4b60",
   "metadata": {},
   "outputs": [
    {
     "data": {
      "text/plain": [
       "1    21775\n",
       "0    10770\n",
       "Name: sex, dtype: int64"
      ]
     },
     "execution_count": 12,
     "metadata": {},
     "output_type": "execute_result"
    }
   ],
   "source": [
    "df[\"sex\"] = df[\"sex\"].replace(' Male', 1)\n",
    "df[\"sex\"] = df[\"sex\"].replace(' Female', 0)\n",
    "df[\"sex\"].value_counts()"
   ]
  },
  {
   "cell_type": "code",
   "execution_count": 13,
   "id": "143eaa4c",
   "metadata": {},
   "outputs": [
    {
     "name": "stdout",
     "output_type": "stream",
     "text": [
      "<class 'pandas.core.frame.DataFrame'>\n",
      "Int64Index: 32545 entries, 0 to 32560\n",
      "Data columns (total 14 columns):\n",
      " #   Column          Non-Null Count  Dtype \n",
      "---  ------          --------------  ----- \n",
      " 0   age             32545 non-null  int64 \n",
      " 1   workclass       32545 non-null  object\n",
      " 2   fnlwgt          32545 non-null  int64 \n",
      " 3   education-num   32545 non-null  int64 \n",
      " 4   marital-status  32545 non-null  object\n",
      " 5   occupation      32545 non-null  object\n",
      " 6   relationship    32545 non-null  object\n",
      " 7   race            32545 non-null  object\n",
      " 8   sex             32545 non-null  int64 \n",
      " 9   capital-gain    32545 non-null  int64 \n",
      " 10  capital-loss    32545 non-null  int64 \n",
      " 11  hours-per-week  32545 non-null  int64 \n",
      " 12  native-country  32545 non-null  int64 \n",
      " 13  salary          32545 non-null  int64 \n",
      "dtypes: int64(9), object(5)\n",
      "memory usage: 3.7+ MB\n"
     ]
    }
   ],
   "source": [
    "df.info()"
   ]
  },
  {
   "cell_type": "code",
   "execution_count": 14,
   "id": "dece1cd8",
   "metadata": {},
   "outputs": [],
   "source": [
    "df.to_pickle(\"df_cl_nodummies_v2.pkl\")\n"
   ]
  },
  {
   "cell_type": "code",
   "execution_count": 15,
   "id": "c9e8b6db",
   "metadata": {},
   "outputs": [],
   "source": [
    "df = pd.read_pickle(\"df_cl_nodummies_v2.pkl\")"
   ]
  },
  {
   "cell_type": "markdown",
   "id": "e44a77c1",
   "metadata": {},
   "source": [
    "### 3.2 One hot encoding"
   ]
  },
  {
   "cell_type": "code",
   "execution_count": 16,
   "id": "28735eef",
   "metadata": {},
   "outputs": [],
   "source": [
    "df = pd.get_dummies(df, columns=['workclass', 'marital-status',\n",
    "                                                    'occupation', 'relationship',\n",
    "                                                    'race'], drop_first=True)"
   ]
  },
  {
   "cell_type": "code",
   "execution_count": 17,
   "id": "627c609d",
   "metadata": {},
   "outputs": [
    {
     "name": "stdout",
     "output_type": "stream",
     "text": [
      "<class 'pandas.core.frame.DataFrame'>\n",
      "Int64Index: 32545 entries, 0 to 32560\n",
      "Data columns (total 45 columns):\n",
      " #   Column                                 Non-Null Count  Dtype\n",
      "---  ------                                 --------------  -----\n",
      " 0   age                                    32545 non-null  int64\n",
      " 1   fnlwgt                                 32545 non-null  int64\n",
      " 2   education-num                          32545 non-null  int64\n",
      " 3   sex                                    32545 non-null  int64\n",
      " 4   capital-gain                           32545 non-null  int64\n",
      " 5   capital-loss                           32545 non-null  int64\n",
      " 6   hours-per-week                         32545 non-null  int64\n",
      " 7   native-country                         32545 non-null  int64\n",
      " 8   salary                                 32545 non-null  int64\n",
      " 9   workclass_ Local-gov                   32545 non-null  uint8\n",
      " 10  workclass_ Never-worked                32545 non-null  uint8\n",
      " 11  workclass_ Private                     32545 non-null  uint8\n",
      " 12  workclass_ Self-emp-inc                32545 non-null  uint8\n",
      " 13  workclass_ Self-emp-not-inc            32545 non-null  uint8\n",
      " 14  workclass_ State-gov                   32545 non-null  uint8\n",
      " 15  workclass_ Without-pay                 32545 non-null  uint8\n",
      " 16  workclass_missing                      32545 non-null  uint8\n",
      " 17  marital-status_ Married-spouse-absent  32545 non-null  uint8\n",
      " 18  marital-status_ Never-married          32545 non-null  uint8\n",
      " 19  marital-status_ Separated              32545 non-null  uint8\n",
      " 20  marital-status_ Widowed                32545 non-null  uint8\n",
      " 21  marital-status_ married                32545 non-null  uint8\n",
      " 22  occupation_ Armed-Forces               32545 non-null  uint8\n",
      " 23  occupation_ Craft-repair               32545 non-null  uint8\n",
      " 24  occupation_ Exec-managerial            32545 non-null  uint8\n",
      " 25  occupation_ Farming-fishing            32545 non-null  uint8\n",
      " 26  occupation_ Handlers-cleaners          32545 non-null  uint8\n",
      " 27  occupation_ Machine-op-inspct          32545 non-null  uint8\n",
      " 28  occupation_ Other-service              32545 non-null  uint8\n",
      " 29  occupation_ Priv-house-serv            32545 non-null  uint8\n",
      " 30  occupation_ Prof-specialty             32545 non-null  uint8\n",
      " 31  occupation_ Protective-serv            32545 non-null  uint8\n",
      " 32  occupation_ Sales                      32545 non-null  uint8\n",
      " 33  occupation_ Tech-support               32545 non-null  uint8\n",
      " 34  occupation_ Transport-moving           32545 non-null  uint8\n",
      " 35  occupation_missing                     32545 non-null  uint8\n",
      " 36  relationship_ Not-in-family            32545 non-null  uint8\n",
      " 37  relationship_ Other-relative           32545 non-null  uint8\n",
      " 38  relationship_ Own-child                32545 non-null  uint8\n",
      " 39  relationship_ Unmarried                32545 non-null  uint8\n",
      " 40  relationship_ Wife                     32545 non-null  uint8\n",
      " 41  race_ Asian-Pac-Islander               32545 non-null  uint8\n",
      " 42  race_ Black                            32545 non-null  uint8\n",
      " 43  race_ Other                            32545 non-null  uint8\n",
      " 44  race_ White                            32545 non-null  uint8\n",
      "dtypes: int64(9), uint8(36)\n",
      "memory usage: 3.6 MB\n"
     ]
    }
   ],
   "source": [
    "df.info()"
   ]
  },
  {
   "cell_type": "markdown",
   "id": "e535c9f0",
   "metadata": {},
   "source": [
    "# 3.3 Balancing the dependent variables using oversampling"
   ]
  },
  {
   "cell_type": "code",
   "execution_count": 18,
   "id": "efd6d64f",
   "metadata": {},
   "outputs": [
    {
     "data": {
      "text/plain": [
       "0    24711\n",
       "1     7834\n",
       "Name: salary, dtype: int64"
      ]
     },
     "execution_count": 18,
     "metadata": {},
     "output_type": "execute_result"
    }
   ],
   "source": [
    "df[\"salary\"].value_counts()"
   ]
  },
  {
   "cell_type": "code",
   "execution_count": 19,
   "id": "3223e2f4",
   "metadata": {},
   "outputs": [
    {
     "name": "stderr",
     "output_type": "stream",
     "text": [
      "/Users/nicole/opt/anaconda3/lib/python3.9/site-packages/seaborn/_decorators.py:36: FutureWarning: Pass the following variable as a keyword arg: x. From version 0.12, the only valid positional argument will be `data`, and passing other arguments without an explicit keyword will result in an error or misinterpretation.\n",
      "  warnings.warn(\n"
     ]
    },
    {
     "data": {
      "text/plain": [
       "<AxesSubplot:xlabel='salary', ylabel='count'>"
      ]
     },
     "execution_count": 19,
     "metadata": {},
     "output_type": "execute_result"
    },
    {
     "data": {
      "image/png": "[encoded data removed]",
      "text/plain": [
       "<Figure size 432x288 with 1 Axes>"
      ]
     },
     "metadata": {
      "needs_background": "light"
     },
     "output_type": "display_data"
    }
   ],
   "source": [
    "sns.countplot(df[\"salary\"])"
   ]
  },
  {
   "cell_type": "code",
   "execution_count": 20,
   "id": "f0f19b9c",
   "metadata": {},
   "outputs": [],
   "source": [
    "#60/20/20 split\n",
    "\n",
    "X_train, X_test, y_train, y_test = train_test_split(df.drop('salary',axis=1), df['salary'], test_size=0.2, random_state=41)\n",
    "X_train, X_val, y_train, y_val = train_test_split(X_train, y_train, test_size=0.25, random_state=41) \n"
   ]
  },
  {
   "cell_type": "code",
   "execution_count": 21,
   "id": "620a37ee",
   "metadata": {},
   "outputs": [
    {
     "name": "stdout",
     "output_type": "stream",
     "text": [
      "Before OverSampling, counts of label '1': 4725\n",
      "Before OverSampling, counts of label '0': 14802 \n",
      "\n"
     ]
    }
   ],
   "source": [
    "print(\"Before OverSampling, counts of label '1': {}\".format(sum(y_train == 1)))\n",
    "print(\"Before OverSampling, counts of label '0': {} \\n\".format(sum(y_train == 0)))"
   ]
  },
  {
   "cell_type": "code",
   "execution_count": 22,
   "id": "eb768eeb",
   "metadata": {},
   "outputs": [],
   "source": [
    "#conda install -c conda-forge imbalanced-learn"
   ]
  },
  {
   "cell_type": "code",
   "execution_count": 23,
   "id": "f0a9f4ad",
   "metadata": {},
   "outputs": [
    {
     "name": "stdout",
     "output_type": "stream",
     "text": [
      "After OverSampling, the shape of train_X: (29604, 44)\n",
      "After OverSampling, the shape of train_y: (29604,) \n",
      "\n",
      "After OverSampling, counts of label '1': 14802\n",
      "After OverSampling, counts of label '0': 14802\n"
     ]
    }
   ],
   "source": [
    "#applying oversampling only to TRAIN\n",
    "from imblearn import under_sampling, over_sampling\n",
    "from imblearn.over_sampling import SMOTE\n",
    "sm = SMOTE(random_state = 42)\n",
    "X_train_res, y_train_res = sm.fit_sample(X_train, y_train.ravel())\n",
    "\n",
    "print('After OverSampling, the shape of train_X: {}'.format(X_train_res.shape))\n",
    "print('After OverSampling, the shape of train_y: {} \\n'.format(y_train_res.shape))\n",
    "  \n",
    "print(\"After OverSampling, counts of label '1': {}\".format(sum(y_train_res == 1)))\n",
    "print(\"After OverSampling, counts of label '0': {}\".format(sum(y_train_res == 0)))"
   ]
  },
  {
   "cell_type": "code",
   "execution_count": 24,
   "id": "a14499ae",
   "metadata": {},
   "outputs": [],
   "source": [
    "#fitting standard scaler to numeric features\n",
    "num_cols = ['age', 'fnlwgt', 'education-num', 'capital-gain', 'capital-loss', 'hours-per-week']\n",
    "std_scale = StandardScaler() #transforming \n",
    "X_train_res[num_cols] = std_scale.fit_transform(X_train_res[num_cols])\n",
    "X_val[num_cols] = std_scale.transform(X_val[num_cols])\n",
    "X_test[num_cols] = std_scale.transform(X_test[num_cols])"
   ]
  },
  {
   "cell_type": "code",
   "execution_count": 25,
   "id": "ea8db45b",
   "metadata": {},
   "outputs": [
    {
     "name": "stderr",
     "output_type": "stream",
     "text": [
      "/Users/nicole/opt/anaconda3/lib/python3.9/site-packages/sklearn/linear_model/_logistic.py:763: ConvergenceWarning: lbfgs failed to converge (status=1):\n",
      "STOP: TOTAL NO. of ITERATIONS REACHED LIMIT.\n",
      "\n",
      "Increase the number of iterations (max_iter) or scale the data as shown in:\n",
      "    https://scikit-learn.org/stable/modules/preprocessing.html\n",
      "Please also refer to the documentation for alternative solver options:\n",
      "    https://scikit-learn.org/stable/modules/linear_model.html#logistic-regression\n",
      "  n_iter_i = _check_optimize_result(\n"
     ]
    }
   ],
   "source": [
    "#this function was taken from the following site:\n",
    "#https://www.imranabdullah.com/2019-06-01/Drawing-multiple-ROC-Curves-in-a-single-plot\n",
    "random = 1234\n",
    "classifiers = [LogisticRegression(random_state=random), \n",
    "               KNeighborsClassifier(), \n",
    "               RandomForestClassifier(random_state=random),\n",
    "              GradientBoostingClassifier(random_state=random),\n",
    "              ExtraTreesClassifier(random_state=random),\n",
    "              AdaBoostClassifier(DecisionTreeClassifier(random_state=random),\n",
    "                                 random_state=random)]\n",
    "\n",
    "# Define a result table as a DataFrame\n",
    "result_table = pd.DataFrame(columns=['classifiers', 'fpr','tpr','auc'])\n",
    "\n",
    "# Train the models and record the results\n",
    "for cls in classifiers:\n",
    "    model = cls.fit(X_train_res, y_train_res)\n",
    "    yproba = model.predict_proba(X_val)[::,1]\n",
    "    fpr, tpr, _ = roc_curve(y_val,  yproba)\n",
    "    auc = roc_auc_score(y_val, yproba)    \n",
    "    result_table = result_table.append({'classifiers':cls.__class__.__name__,\n",
    "                                        'fpr':fpr, \n",
    "                                        'tpr':tpr, \n",
    "                                        'auc':auc}, ignore_index=True)\n",
    "# Set name of the classifiers as index labels\n",
    "result_table.set_index('classifiers', inplace=True)"
   ]
  },
  {
   "cell_type": "code",
   "execution_count": 26,
   "id": "678e2adb",
   "metadata": {},
   "outputs": [
    {
     "data": {
      "image/png": "[encoded data removed]",
      "text/plain": [
       "<Figure size 576x432 with 1 Axes>"
      ]
     },
     "metadata": {
      "needs_background": "light"
     },
     "output_type": "display_data"
    }
   ],
   "source": [
    "#this function was taken from the following site:\n",
    "#https://www.imranabdullah.com/2019-06-01/Drawing-multiple-ROC-Curves-in-a-single-plot\n",
    "\n",
    "fig = plt.figure(figsize=(8,6))\n",
    "\n",
    "for i in result_table.index:\n",
    "    plt.plot(result_table.loc[i]['fpr'], \n",
    "             result_table.loc[i]['tpr'], \n",
    "             label=\"{}, AUC={:.3f}\".format(i, result_table.loc[i]['auc']))\n",
    "    \n",
    "plt.plot([0,1], [0,1], color='orange', linestyle='--')\n",
    "\n",
    "plt.xticks(np.arange(0.0, 1.1, step=0.1))\n",
    "plt.xlabel(\"False Positive Rate\", fontsize=15)\n",
    "\n",
    "plt.yticks(np.arange(0.0, 1.1, step=0.1))\n",
    "plt.ylabel(\"True Positive Rate\", fontsize=15)\n",
    "\n",
    "plt.title('ROC Curve Analysis', fontweight='bold', fontsize=15)\n",
    "plt.legend(prop={'size':13}, loc='lower right')\n",
    "\n",
    "plt.show()"
   ]
  },
  {
   "cell_type": "code",
   "execution_count": 27,
   "id": "9d00a2dd",
   "metadata": {},
   "outputs": [],
   "source": [
    "#default hyperparameters for GBC can be found here:\n",
    "#https://scikit-learn.org/stable/modules/generated/sklearn.ensemble.GradientBoostingClassifier.html\n",
    "    "
   ]
  },
  {
   "cell_type": "code",
   "execution_count": 28,
   "id": "b42f0268",
   "metadata": {},
   "outputs": [
    {
     "name": "stdout",
     "output_type": "stream",
     "text": [
      " Results from Grid Search \n",
      "\n",
      " The best estimator across ALL searched params:\n",
      " GradientBoostingClassifier(max_depth=8, max_features=6, n_estimators=150)\n",
      "\n",
      " The best score across ALL searched params:\n",
      " 0.8893072641126178\n",
      "\n",
      " The best parameters across ALL searched params:\n",
      " {'max_depth': 8, 'max_features': 6, 'n_estimators': 150}\n"
     ]
    }
   ],
   "source": [
    "#this hyperparameter grid search was taken from\n",
    "#https://www.kaggle.com/code/mahmoudftolba/salary-prediction-classification#8-|--Modeling-\n",
    "#and\n",
    "#https://towardsdatascience.com/cutting-the-cord-predicting-customer-churn-for-a-telecom-company-268e65f177a5\n",
    "\n",
    "GBC = GradientBoostingClassifier()\n",
    "gb_param_grid = {'n_estimators' : [50,100,150],\n",
    "                'max_depth': [4,6,8],\n",
    "                'max_features': [2,3,4,5,6]}\n",
    "grid_GBC = GridSearchCV(GBC,param_grid = gb_param_grid, cv=5,scoring=\"accuracy\", n_jobs= 4)\n",
    "grid_GBC.fit(X_train_res, y_train_res)\n",
    "print(\" Results from Grid Search \" )\n",
    "print(\"\\n The best estimator across ALL searched params:\\n\",grid_GBC.best_estimator_)\n",
    "print(\"\\n The best score across ALL searched params:\\n\",grid_GBC.best_score_)\n",
    "print(\"\\n The best parameters across ALL searched params:\\n\",grid_GBC.best_params_)\n",
    "\n"
   ]
  },
  {
   "cell_type": "code",
   "execution_count": 29,
   "id": "0cd10bf2",
   "metadata": {},
   "outputs": [],
   "source": [
    "GBC_best = grid_GBC.best_estimator_"
   ]
  },
  {
   "cell_type": "code",
   "execution_count": 30,
   "id": "1d223eb7",
   "metadata": {},
   "outputs": [],
   "source": [
    "#print(GBC_best.feature_importances_)"
   ]
  },
  {
   "cell_type": "code",
   "execution_count": 31,
   "id": "bbefa69b",
   "metadata": {},
   "outputs": [],
   "source": [
    "#this entire function was taken from\n",
    "#https://www.kaggle.com/code/mahmoudftolba/salary-prediction-classification#8-|--Modeling-\n",
    "\n",
    "def evaluate_model(model, x_test, y_test):\n",
    "    from sklearn import metrics\n",
    "\n",
    "    # Predict Test Data \n",
    "    y_pred = model.predict(x_test)\n",
    "\n",
    "    # Calculate accuracy, precision, recall, f1-score, and kappa score\n",
    "    acc = metrics.accuracy_score(y_test, y_pred)\n",
    "    prec = metrics.precision_score(y_test, y_pred)\n",
    "    rec = metrics.recall_score(y_test, y_pred)\n",
    "    f1 = metrics.f1_score(y_test, y_pred)\n",
    "    # Calculate area under curve (AUC)\n",
    "    y_pred_proba = model.predict_proba(x_test)[:,1]\n",
    "    auc = metrics.roc_auc_score(y_test, y_pred_proba)\n",
    "\n",
    "    # Display confusion matrix\n",
    "    cm = metrics.confusion_matrix(y_test, y_pred)\n",
    "\n",
    "    return {'acc': acc, 'prec': prec, 'rec': rec, 'f1': f1,\n",
    "             'auc': auc, 'cm': cm}"
   ]
  },
  {
   "cell_type": "code",
   "execution_count": 32,
   "id": "87394abe",
   "metadata": {},
   "outputs": [
    {
     "name": "stdout",
     "output_type": "stream",
     "text": [
      "Accuracy: 0.86\n",
      "Precision: 0.71\n",
      "Recall: 0.7\n",
      "F1 Score: 0.7\n",
      "Area Under Curve: 0.91\n",
      "Confusion Matrix:\n",
      " [[4459  455]\n",
      " [ 479 1116]]\n"
     ]
    }
   ],
   "source": [
    "#as was this code chunk\n",
    "##https://www.kaggle.com/code/mahmoudftolba/salary-prediction-classification#8-|--Modeling-\n",
    "\n",
    "GBC_eval =  evaluate_model(GBC_best, X_val, y_val)\n",
    "print('Accuracy:', round(GBC_eval['acc'], 2))\n",
    "print('Precision:', round(GBC_eval['prec'],2))\n",
    "print('Recall:', round(GBC_eval['rec'],2))\n",
    "print('F1 Score:', round(GBC_eval['f1'],2))\n",
    "print('Area Under Curve:', round(GBC_eval['auc'],2))\n",
    "print('Confusion Matrix:\\n', GBC_eval['cm'])"
   ]
  },
  {
   "cell_type": "code",
   "execution_count": 33,
   "id": "6a89e845",
   "metadata": {},
   "outputs": [
    {
     "name": "stdout",
     "output_type": "stream",
     "text": [
      "<class 'pandas.core.frame.DataFrame'>\n",
      "Int64Index: 6509 entries, 25482 to 17470\n",
      "Data columns (total 44 columns):\n",
      " #   Column                                 Non-Null Count  Dtype  \n",
      "---  ------                                 --------------  -----  \n",
      " 0   age                                    6509 non-null   float64\n",
      " 1   fnlwgt                                 6509 non-null   float64\n",
      " 2   education-num                          6509 non-null   float64\n",
      " 3   sex                                    6509 non-null   int64  \n",
      " 4   capital-gain                           6509 non-null   float64\n",
      " 5   capital-loss                           6509 non-null   float64\n",
      " 6   hours-per-week                         6509 non-null   float64\n",
      " 7   native-country                         6509 non-null   int64  \n",
      " 8   workclass_ Local-gov                   6509 non-null   uint8  \n",
      " 9   workclass_ Never-worked                6509 non-null   uint8  \n",
      " 10  workclass_ Private                     6509 non-null   uint8  \n",
      " 11  workclass_ Self-emp-inc                6509 non-null   uint8  \n",
      " 12  workclass_ Self-emp-not-inc            6509 non-null   uint8  \n",
      " 13  workclass_ State-gov                   6509 non-null   uint8  \n",
      " 14  workclass_ Without-pay                 6509 non-null   uint8  \n",
      " 15  workclass_missing                      6509 non-null   uint8  \n",
      " 16  marital-status_ Married-spouse-absent  6509 non-null   uint8  \n",
      " 17  marital-status_ Never-married          6509 non-null   uint8  \n",
      " 18  marital-status_ Separated              6509 non-null   uint8  \n",
      " 19  marital-status_ Widowed                6509 non-null   uint8  \n",
      " 20  marital-status_ married                6509 non-null   uint8  \n",
      " 21  occupation_ Armed-Forces               6509 non-null   uint8  \n",
      " 22  occupation_ Craft-repair               6509 non-null   uint8  \n",
      " 23  occupation_ Exec-managerial            6509 non-null   uint8  \n",
      " 24  occupation_ Farming-fishing            6509 non-null   uint8  \n",
      " 25  occupation_ Handlers-cleaners          6509 non-null   uint8  \n",
      " 26  occupation_ Machine-op-inspct          6509 non-null   uint8  \n",
      " 27  occupation_ Other-service              6509 non-null   uint8  \n",
      " 28  occupation_ Priv-house-serv            6509 non-null   uint8  \n",
      " 29  occupation_ Prof-specialty             6509 non-null   uint8  \n",
      " 30  occupation_ Protective-serv            6509 non-null   uint8  \n",
      " 31  occupation_ Sales                      6509 non-null   uint8  \n",
      " 32  occupation_ Tech-support               6509 non-null   uint8  \n",
      " 33  occupation_ Transport-moving           6509 non-null   uint8  \n",
      " 34  occupation_missing                     6509 non-null   uint8  \n",
      " 35  relationship_ Not-in-family            6509 non-null   uint8  \n",
      " 36  relationship_ Other-relative           6509 non-null   uint8  \n",
      " 37  relationship_ Own-child                6509 non-null   uint8  \n",
      " 38  relationship_ Unmarried                6509 non-null   uint8  \n",
      " 39  relationship_ Wife                     6509 non-null   uint8  \n",
      " 40  race_ Asian-Pac-Islander               6509 non-null   uint8  \n",
      " 41  race_ Black                            6509 non-null   uint8  \n",
      " 42  race_ Other                            6509 non-null   uint8  \n",
      " 43  race_ White                            6509 non-null   uint8  \n",
      "dtypes: float64(6), int64(2), uint8(36)\n",
      "memory usage: 686.5 KB\n"
     ]
    }
   ],
   "source": [
    "X_test.info()"
   ]
  },
  {
   "cell_type": "code",
   "execution_count": 34,
   "id": "ac05d911",
   "metadata": {},
   "outputs": [
    {
     "name": "stdout",
     "output_type": "stream",
     "text": [
      "Accuracy: 0.86\n",
      "Precision: 0.71\n",
      "Recall: 0.7\n",
      "F1 Score: 0.7\n",
      "Area Under Curve: 0.92\n",
      "Confusion Matrix:\n",
      " [[4553  442]\n",
      " [ 451 1063]]\n"
     ]
    }
   ],
   "source": [
    "GBC_eval =  evaluate_model(GBC_best, X_test, y_test)\n",
    "print('Accuracy:', round(GBC_eval['acc'], 2))\n",
    "print('Precision:', round(GBC_eval['prec'],2))\n",
    "print('Recall:', round(GBC_eval['rec'],2))\n",
    "print('F1 Score:', round(GBC_eval['f1'],2))\n",
    "print('Area Under Curve:', round(GBC_eval['auc'],2))\n",
    "print('Confusion Matrix:\\n', GBC_eval['cm'])"
   ]
  },
  {
   "cell_type": "markdown",
   "id": "d7ef4507",
   "metadata": {},
   "source": [
    "# 3.4 Feature Importance"
   ]
  },
  {
   "cell_type": "code",
   "execution_count": 35,
   "id": "6a30966e",
   "metadata": {},
   "outputs": [],
   "source": [
    "gradboost_model = GBC_best.fit(X_train_res, y_train_res)"
   ]
  },
  {
   "cell_type": "code",
   "execution_count": 36,
   "id": "fd21fe75",
   "metadata": {},
   "outputs": [],
   "source": [
    "X = df.drop(\"salary\", axis=1)\n",
    "features=[]\n",
    "for columns in X.columns:\n",
    "    features.append(columns)"
   ]
  },
  {
   "cell_type": "code",
   "execution_count": 37,
   "id": "328f6514",
   "metadata": {},
   "outputs": [
    {
     "data": {
      "text/html": [
       "<div>\n",
       "<style scoped>\n",
       "    .dataframe tbody tr th:only-of-type {\n",
       "        vertical-align: middle;\n",
       "    }\n",
       "\n",
       "    .dataframe tbody tr th {\n",
       "        vertical-align: top;\n",
       "    }\n",
       "\n",
       "    .dataframe thead th {\n",
       "        text-align: right;\n",
       "    }\n",
       "</style>\n",
       "<table border=\"1\" class=\"dataframe\">\n",
       "  <thead>\n",
       "    <tr style=\"text-align: right;\">\n",
       "      <th></th>\n",
       "      <th>features</th>\n",
       "      <th>weights</th>\n",
       "    </tr>\n",
       "  </thead>\n",
       "  <tbody>\n",
       "    <tr>\n",
       "      <th>17</th>\n",
       "      <td>marital-status_ Never-married</td>\n",
       "      <td>0.111653</td>\n",
       "    </tr>\n",
       "    <tr>\n",
       "      <th>20</th>\n",
       "      <td>marital-status_ married</td>\n",
       "      <td>0.093446</td>\n",
       "    </tr>\n",
       "    <tr>\n",
       "      <th>35</th>\n",
       "      <td>relationship_ Not-in-family</td>\n",
       "      <td>0.086451</td>\n",
       "    </tr>\n",
       "    <tr>\n",
       "      <th>2</th>\n",
       "      <td>education-num</td>\n",
       "      <td>0.083681</td>\n",
       "    </tr>\n",
       "    <tr>\n",
       "      <th>0</th>\n",
       "      <td>age</td>\n",
       "      <td>0.083123</td>\n",
       "    </tr>\n",
       "    <tr>\n",
       "      <th>6</th>\n",
       "      <td>hours-per-week</td>\n",
       "      <td>0.074573</td>\n",
       "    </tr>\n",
       "    <tr>\n",
       "      <th>4</th>\n",
       "      <td>capital-gain</td>\n",
       "      <td>0.070937</td>\n",
       "    </tr>\n",
       "    <tr>\n",
       "      <th>38</th>\n",
       "      <td>relationship_ Unmarried</td>\n",
       "      <td>0.065709</td>\n",
       "    </tr>\n",
       "    <tr>\n",
       "      <th>37</th>\n",
       "      <td>relationship_ Own-child</td>\n",
       "      <td>0.054662</td>\n",
       "    </tr>\n",
       "    <tr>\n",
       "      <th>5</th>\n",
       "      <td>capital-loss</td>\n",
       "      <td>0.024107</td>\n",
       "    </tr>\n",
       "    <tr>\n",
       "      <th>22</th>\n",
       "      <td>occupation_ Craft-repair</td>\n",
       "      <td>0.023028</td>\n",
       "    </tr>\n",
       "    <tr>\n",
       "      <th>27</th>\n",
       "      <td>occupation_ Other-service</td>\n",
       "      <td>0.021396</td>\n",
       "    </tr>\n",
       "    <tr>\n",
       "      <th>1</th>\n",
       "      <td>fnlwgt</td>\n",
       "      <td>0.020057</td>\n",
       "    </tr>\n",
       "    <tr>\n",
       "      <th>10</th>\n",
       "      <td>workclass_ Private</td>\n",
       "      <td>0.017888</td>\n",
       "    </tr>\n",
       "    <tr>\n",
       "      <th>12</th>\n",
       "      <td>workclass_ Self-emp-not-inc</td>\n",
       "      <td>0.015842</td>\n",
       "    </tr>\n",
       "    <tr>\n",
       "      <th>41</th>\n",
       "      <td>race_ Black</td>\n",
       "      <td>0.014422</td>\n",
       "    </tr>\n",
       "    <tr>\n",
       "      <th>15</th>\n",
       "      <td>workclass_missing</td>\n",
       "      <td>0.014401</td>\n",
       "    </tr>\n",
       "    <tr>\n",
       "      <th>33</th>\n",
       "      <td>occupation_ Transport-moving</td>\n",
       "      <td>0.013861</td>\n",
       "    </tr>\n",
       "    <tr>\n",
       "      <th>26</th>\n",
       "      <td>occupation_ Machine-op-inspct</td>\n",
       "      <td>0.012600</td>\n",
       "    </tr>\n",
       "    <tr>\n",
       "      <th>24</th>\n",
       "      <td>occupation_ Farming-fishing</td>\n",
       "      <td>0.012543</td>\n",
       "    </tr>\n",
       "    <tr>\n",
       "      <th>25</th>\n",
       "      <td>occupation_ Handlers-cleaners</td>\n",
       "      <td>0.010256</td>\n",
       "    </tr>\n",
       "    <tr>\n",
       "      <th>8</th>\n",
       "      <td>workclass_ Local-gov</td>\n",
       "      <td>0.009159</td>\n",
       "    </tr>\n",
       "    <tr>\n",
       "      <th>36</th>\n",
       "      <td>relationship_ Other-relative</td>\n",
       "      <td>0.008958</td>\n",
       "    </tr>\n",
       "    <tr>\n",
       "      <th>31</th>\n",
       "      <td>occupation_ Sales</td>\n",
       "      <td>0.008294</td>\n",
       "    </tr>\n",
       "    <tr>\n",
       "      <th>13</th>\n",
       "      <td>workclass_ State-gov</td>\n",
       "      <td>0.006583</td>\n",
       "    </tr>\n",
       "    <tr>\n",
       "      <th>3</th>\n",
       "      <td>sex</td>\n",
       "      <td>0.006067</td>\n",
       "    </tr>\n",
       "    <tr>\n",
       "      <th>34</th>\n",
       "      <td>occupation_missing</td>\n",
       "      <td>0.005870</td>\n",
       "    </tr>\n",
       "    <tr>\n",
       "      <th>29</th>\n",
       "      <td>occupation_ Prof-specialty</td>\n",
       "      <td>0.004362</td>\n",
       "    </tr>\n",
       "    <tr>\n",
       "      <th>23</th>\n",
       "      <td>occupation_ Exec-managerial</td>\n",
       "      <td>0.004064</td>\n",
       "    </tr>\n",
       "    <tr>\n",
       "      <th>39</th>\n",
       "      <td>relationship_ Wife</td>\n",
       "      <td>0.003931</td>\n",
       "    </tr>\n",
       "    <tr>\n",
       "      <th>11</th>\n",
       "      <td>workclass_ Self-emp-inc</td>\n",
       "      <td>0.003440</td>\n",
       "    </tr>\n",
       "    <tr>\n",
       "      <th>43</th>\n",
       "      <td>race_ White</td>\n",
       "      <td>0.002545</td>\n",
       "    </tr>\n",
       "    <tr>\n",
       "      <th>40</th>\n",
       "      <td>race_ Asian-Pac-Islander</td>\n",
       "      <td>0.002027</td>\n",
       "    </tr>\n",
       "    <tr>\n",
       "      <th>30</th>\n",
       "      <td>occupation_ Protective-serv</td>\n",
       "      <td>0.001993</td>\n",
       "    </tr>\n",
       "    <tr>\n",
       "      <th>32</th>\n",
       "      <td>occupation_ Tech-support</td>\n",
       "      <td>0.001908</td>\n",
       "    </tr>\n",
       "    <tr>\n",
       "      <th>7</th>\n",
       "      <td>native-country</td>\n",
       "      <td>0.001891</td>\n",
       "    </tr>\n",
       "    <tr>\n",
       "      <th>19</th>\n",
       "      <td>marital-status_ Widowed</td>\n",
       "      <td>0.001646</td>\n",
       "    </tr>\n",
       "    <tr>\n",
       "      <th>18</th>\n",
       "      <td>marital-status_ Separated</td>\n",
       "      <td>0.001223</td>\n",
       "    </tr>\n",
       "    <tr>\n",
       "      <th>42</th>\n",
       "      <td>race_ Other</td>\n",
       "      <td>0.000517</td>\n",
       "    </tr>\n",
       "    <tr>\n",
       "      <th>16</th>\n",
       "      <td>marital-status_ Married-spouse-absent</td>\n",
       "      <td>0.000400</td>\n",
       "    </tr>\n",
       "    <tr>\n",
       "      <th>28</th>\n",
       "      <td>occupation_ Priv-house-serv</td>\n",
       "      <td>0.000325</td>\n",
       "    </tr>\n",
       "    <tr>\n",
       "      <th>14</th>\n",
       "      <td>workclass_ Without-pay</td>\n",
       "      <td>0.000145</td>\n",
       "    </tr>\n",
       "    <tr>\n",
       "      <th>21</th>\n",
       "      <td>occupation_ Armed-Forces</td>\n",
       "      <td>0.000008</td>\n",
       "    </tr>\n",
       "    <tr>\n",
       "      <th>9</th>\n",
       "      <td>workclass_ Never-worked</td>\n",
       "      <td>0.000003</td>\n",
       "    </tr>\n",
       "  </tbody>\n",
       "</table>\n",
       "</div>"
      ],
      "text/plain": [
       "                                 features   weights\n",
       "17          marital-status_ Never-married  0.111653\n",
       "20                marital-status_ married  0.093446\n",
       "35            relationship_ Not-in-family  0.086451\n",
       "2                           education-num  0.083681\n",
       "0                                     age  0.083123\n",
       "6                          hours-per-week  0.074573\n",
       "4                            capital-gain  0.070937\n",
       "38                relationship_ Unmarried  0.065709\n",
       "37                relationship_ Own-child  0.054662\n",
       "5                            capital-loss  0.024107\n",
       "22               occupation_ Craft-repair  0.023028\n",
       "27              occupation_ Other-service  0.021396\n",
       "1                                  fnlwgt  0.020057\n",
       "10                     workclass_ Private  0.017888\n",
       "12            workclass_ Self-emp-not-inc  0.015842\n",
       "41                            race_ Black  0.014422\n",
       "15                      workclass_missing  0.014401\n",
       "33           occupation_ Transport-moving  0.013861\n",
       "26          occupation_ Machine-op-inspct  0.012600\n",
       "24            occupation_ Farming-fishing  0.012543\n",
       "25          occupation_ Handlers-cleaners  0.010256\n",
       "8                    workclass_ Local-gov  0.009159\n",
       "36           relationship_ Other-relative  0.008958\n",
       "31                      occupation_ Sales  0.008294\n",
       "13                   workclass_ State-gov  0.006583\n",
       "3                                     sex  0.006067\n",
       "34                     occupation_missing  0.005870\n",
       "29             occupation_ Prof-specialty  0.004362\n",
       "23            occupation_ Exec-managerial  0.004064\n",
       "39                     relationship_ Wife  0.003931\n",
       "11                workclass_ Self-emp-inc  0.003440\n",
       "43                            race_ White  0.002545\n",
       "40               race_ Asian-Pac-Islander  0.002027\n",
       "30            occupation_ Protective-serv  0.001993\n",
       "32               occupation_ Tech-support  0.001908\n",
       "7                          native-country  0.001891\n",
       "19                marital-status_ Widowed  0.001646\n",
       "18              marital-status_ Separated  0.001223\n",
       "42                            race_ Other  0.000517\n",
       "16  marital-status_ Married-spouse-absent  0.000400\n",
       "28            occupation_ Priv-house-serv  0.000325\n",
       "14                 workclass_ Without-pay  0.000145\n",
       "21               occupation_ Armed-Forces  0.000008\n",
       "9                 workclass_ Never-worked  0.000003"
      ]
     },
     "execution_count": 37,
     "metadata": {},
     "output_type": "execute_result"
    }
   ],
   "source": [
    "#this code block was taken from\n",
    "#https://medium.com/geekculture/finding-the-important-features-of-a-feature-set-a-classification-task-with-sklearns-algorithms-3003f740faf9\n",
    "\n",
    "imp_features = gradboost_model.feature_importances_\n",
    "#for i in imp_features:\n",
    "    #print(i.round(3))\n",
    "df_imp_features = pd.DataFrame({\"features\":features}).join(pd.DataFrame({\"weights\":imp_features}))\n",
    "df_imp_features.sort_values(by=['weights'], ascending=False)"
   ]
  },
  {
   "cell_type": "code",
   "execution_count": 64,
   "id": "9ce5dc00",
   "metadata": {},
   "outputs": [
    {
     "data": {
      "text/plain": [
       "Text(0.5, 0, 'Feature Importance')"
      ]
     },
     "execution_count": 64,
     "metadata": {},
     "output_type": "execute_result"
    },
    {
     "data": {
      "image/png": "[encoded data removed]",
      "text/plain": [
       "<Figure size 576x432 with 1 Axes>"
      ]
     },
     "metadata": {
      "needs_background": "light"
     },
     "output_type": "display_data"
    }
   ],
   "source": [
    "fig = plt.figure(figsize=(8,6))\n",
    "df_imp_features_r = df_imp_features_r.sort_values('weights')\n",
    "df_imp_features_r = df_imp_features.head().sort_values('weights')\n",
    "plt.barh(df_imp_features_r.features, df_imp_features_r.weights)\n",
    "plt.xlabel(\"Feature Importance\")\n"
   ]
  },
  {
   "cell_type": "code",
   "execution_count": 38,
   "id": "6f38fe3a",
   "metadata": {},
   "outputs": [
    {
     "name": "stdout",
     "output_type": "stream",
     "text": [
      "<class 'pandas.core.frame.DataFrame'>\n",
      "RangeIndex: 29604 entries, 0 to 29603\n",
      "Data columns (total 44 columns):\n",
      " #   Column                                 Non-Null Count  Dtype  \n",
      "---  ------                                 --------------  -----  \n",
      " 0   age                                    29604 non-null  float64\n",
      " 1   fnlwgt                                 29604 non-null  float64\n",
      " 2   education-num                          29604 non-null  float64\n",
      " 3   sex                                    29604 non-null  int64  \n",
      " 4   capital-gain                           29604 non-null  float64\n",
      " 5   capital-loss                           29604 non-null  float64\n",
      " 6   hours-per-week                         29604 non-null  float64\n",
      " 7   native-country                         29604 non-null  int64  \n",
      " 8   workclass_ Local-gov                   29604 non-null  uint8  \n",
      " 9   workclass_ Never-worked                29604 non-null  uint8  \n",
      " 10  workclass_ Private                     29604 non-null  uint8  \n",
      " 11  workclass_ Self-emp-inc                29604 non-null  uint8  \n",
      " 12  workclass_ Self-emp-not-inc            29604 non-null  uint8  \n",
      " 13  workclass_ State-gov                   29604 non-null  uint8  \n",
      " 14  workclass_ Without-pay                 29604 non-null  uint8  \n",
      " 15  workclass_missing                      29604 non-null  uint8  \n",
      " 16  marital-status_ Married-spouse-absent  29604 non-null  uint8  \n",
      " 17  marital-status_ Never-married          29604 non-null  uint8  \n",
      " 18  marital-status_ Separated              29604 non-null  uint8  \n",
      " 19  marital-status_ Widowed                29604 non-null  uint8  \n",
      " 20  marital-status_ married                29604 non-null  uint8  \n",
      " 21  occupation_ Armed-Forces               29604 non-null  uint8  \n",
      " 22  occupation_ Craft-repair               29604 non-null  uint8  \n",
      " 23  occupation_ Exec-managerial            29604 non-null  uint8  \n",
      " 24  occupation_ Farming-fishing            29604 non-null  uint8  \n",
      " 25  occupation_ Handlers-cleaners          29604 non-null  uint8  \n",
      " 26  occupation_ Machine-op-inspct          29604 non-null  uint8  \n",
      " 27  occupation_ Other-service              29604 non-null  uint8  \n",
      " 28  occupation_ Priv-house-serv            29604 non-null  uint8  \n",
      " 29  occupation_ Prof-specialty             29604 non-null  uint8  \n",
      " 30  occupation_ Protective-serv            29604 non-null  uint8  \n",
      " 31  occupation_ Sales                      29604 non-null  uint8  \n",
      " 32  occupation_ Tech-support               29604 non-null  uint8  \n",
      " 33  occupation_ Transport-moving           29604 non-null  uint8  \n",
      " 34  occupation_missing                     29604 non-null  uint8  \n",
      " 35  relationship_ Not-in-family            29604 non-null  uint8  \n",
      " 36  relationship_ Other-relative           29604 non-null  uint8  \n",
      " 37  relationship_ Own-child                29604 non-null  uint8  \n",
      " 38  relationship_ Unmarried                29604 non-null  uint8  \n",
      " 39  relationship_ Wife                     29604 non-null  uint8  \n",
      " 40  race_ Asian-Pac-Islander               29604 non-null  uint8  \n",
      " 41  race_ Black                            29604 non-null  uint8  \n",
      " 42  race_ Other                            29604 non-null  uint8  \n",
      " 43  race_ White                            29604 non-null  uint8  \n",
      "dtypes: float64(6), int64(2), uint8(36)\n",
      "memory usage: 2.8 MB\n"
     ]
    }
   ],
   "source": [
    "X_train_res.info()"
   ]
  },
  {
   "cell_type": "code",
   "execution_count": 39,
   "id": "de5746f0",
   "metadata": {},
   "outputs": [],
   "source": [
    "X_train_res_drop = X_train_res.drop(['marital-status_ Married-spouse-absent',\n",
    "                           'marital-status_ Never-married',\n",
    "                          'marital-status_ Separated',\n",
    "                          'marital-status_ Widowed',\n",
    "                          'marital-status_ married',\n",
    "                          ], axis=1)"
   ]
  },
  {
   "cell_type": "code",
   "execution_count": 40,
   "id": "30fbb167",
   "metadata": {},
   "outputs": [
    {
     "name": "stdout",
     "output_type": "stream",
     "text": [
      "<class 'pandas.core.frame.DataFrame'>\n",
      "RangeIndex: 29604 entries, 0 to 29603\n",
      "Data columns (total 39 columns):\n",
      " #   Column                         Non-Null Count  Dtype  \n",
      "---  ------                         --------------  -----  \n",
      " 0   age                            29604 non-null  float64\n",
      " 1   fnlwgt                         29604 non-null  float64\n",
      " 2   education-num                  29604 non-null  float64\n",
      " 3   sex                            29604 non-null  int64  \n",
      " 4   capital-gain                   29604 non-null  float64\n",
      " 5   capital-loss                   29604 non-null  float64\n",
      " 6   hours-per-week                 29604 non-null  float64\n",
      " 7   native-country                 29604 non-null  int64  \n",
      " 8   workclass_ Local-gov           29604 non-null  uint8  \n",
      " 9   workclass_ Never-worked        29604 non-null  uint8  \n",
      " 10  workclass_ Private             29604 non-null  uint8  \n",
      " 11  workclass_ Self-emp-inc        29604 non-null  uint8  \n",
      " 12  workclass_ Self-emp-not-inc    29604 non-null  uint8  \n",
      " 13  workclass_ State-gov           29604 non-null  uint8  \n",
      " 14  workclass_ Without-pay         29604 non-null  uint8  \n",
      " 15  workclass_missing              29604 non-null  uint8  \n",
      " 16  occupation_ Armed-Forces       29604 non-null  uint8  \n",
      " 17  occupation_ Craft-repair       29604 non-null  uint8  \n",
      " 18  occupation_ Exec-managerial    29604 non-null  uint8  \n",
      " 19  occupation_ Farming-fishing    29604 non-null  uint8  \n",
      " 20  occupation_ Handlers-cleaners  29604 non-null  uint8  \n",
      " 21  occupation_ Machine-op-inspct  29604 non-null  uint8  \n",
      " 22  occupation_ Other-service      29604 non-null  uint8  \n",
      " 23  occupation_ Priv-house-serv    29604 non-null  uint8  \n",
      " 24  occupation_ Prof-specialty     29604 non-null  uint8  \n",
      " 25  occupation_ Protective-serv    29604 non-null  uint8  \n",
      " 26  occupation_ Sales              29604 non-null  uint8  \n",
      " 27  occupation_ Tech-support       29604 non-null  uint8  \n",
      " 28  occupation_ Transport-moving   29604 non-null  uint8  \n",
      " 29  occupation_missing             29604 non-null  uint8  \n",
      " 30  relationship_ Not-in-family    29604 non-null  uint8  \n",
      " 31  relationship_ Other-relative   29604 non-null  uint8  \n",
      " 32  relationship_ Own-child        29604 non-null  uint8  \n",
      " 33  relationship_ Unmarried        29604 non-null  uint8  \n",
      " 34  relationship_ Wife             29604 non-null  uint8  \n",
      " 35  race_ Asian-Pac-Islander       29604 non-null  uint8  \n",
      " 36  race_ Black                    29604 non-null  uint8  \n",
      " 37  race_ Other                    29604 non-null  uint8  \n",
      " 38  race_ White                    29604 non-null  uint8  \n",
      "dtypes: float64(6), int64(2), uint8(31)\n",
      "memory usage: 2.7 MB\n"
     ]
    }
   ],
   "source": [
    "X_train_res_drop.info()"
   ]
  },
  {
   "cell_type": "code",
   "execution_count": 41,
   "id": "203a0464",
   "metadata": {},
   "outputs": [
    {
     "name": "stdout",
     "output_type": "stream",
     "text": [
      " Results from Grid Search \n",
      "\n",
      " The best estimator across ALL searched params:\n",
      " GradientBoostingClassifier(max_depth=8, max_features=5, n_estimators=150)\n",
      "\n",
      " The best score across ALL searched params:\n",
      " 0.8886655205703932\n",
      "\n",
      " The best parameters across ALL searched params:\n",
      " {'max_depth': 8, 'max_features': 5, 'n_estimators': 150}\n"
     ]
    }
   ],
   "source": [
    "#same citation for this code chunk as before\n",
    "GBC = GradientBoostingClassifier()\n",
    "gb_param_grid = {'n_estimators' : [50,100,150],\n",
    "                'max_depth': [4,6,8],\n",
    "                'max_features': [2,3,4,5,6]}\n",
    "grid_GBC = GridSearchCV(GBC,param_grid = gb_param_grid, cv=5,scoring=\"accuracy\", n_jobs= 4)\n",
    "grid_GBC.fit(X_train_res_drop, y_train_res)\n",
    "print(\" Results from Grid Search \" )\n",
    "print(\"\\n The best estimator across ALL searched params:\\n\",grid_GBC.best_estimator_)\n",
    "print(\"\\n The best score across ALL searched params:\\n\",grid_GBC.best_score_)\n",
    "print(\"\\n The best parameters across ALL searched params:\\n\",grid_GBC.best_params_)\n",
    "\n"
   ]
  },
  {
   "cell_type": "code",
   "execution_count": 42,
   "id": "91934cb7",
   "metadata": {},
   "outputs": [],
   "source": [
    "GBC_best_drop = grid_GBC.best_estimator_"
   ]
  },
  {
   "cell_type": "code",
   "execution_count": 43,
   "id": "f151bb32",
   "metadata": {},
   "outputs": [
    {
     "data": {
      "text/plain": [
       "(6509, 44)"
      ]
     },
     "execution_count": 43,
     "metadata": {},
     "output_type": "execute_result"
    }
   ],
   "source": [
    "X_test.shape"
   ]
  },
  {
   "cell_type": "code",
   "execution_count": 44,
   "id": "42c04d2b",
   "metadata": {
    "scrolled": true
   },
   "outputs": [
    {
     "name": "stdout",
     "output_type": "stream",
     "text": [
      "<class 'pandas.core.frame.DataFrame'>\n",
      "Int64Index: 6509 entries, 25482 to 17470\n",
      "Data columns (total 44 columns):\n",
      " #   Column                                 Non-Null Count  Dtype  \n",
      "---  ------                                 --------------  -----  \n",
      " 0   age                                    6509 non-null   float64\n",
      " 1   fnlwgt                                 6509 non-null   float64\n",
      " 2   education-num                          6509 non-null   float64\n",
      " 3   sex                                    6509 non-null   int64  \n",
      " 4   capital-gain                           6509 non-null   float64\n",
      " 5   capital-loss                           6509 non-null   float64\n",
      " 6   hours-per-week                         6509 non-null   float64\n",
      " 7   native-country                         6509 non-null   int64  \n",
      " 8   workclass_ Local-gov                   6509 non-null   uint8  \n",
      " 9   workclass_ Never-worked                6509 non-null   uint8  \n",
      " 10  workclass_ Private                     6509 non-null   uint8  \n",
      " 11  workclass_ Self-emp-inc                6509 non-null   uint8  \n",
      " 12  workclass_ Self-emp-not-inc            6509 non-null   uint8  \n",
      " 13  workclass_ State-gov                   6509 non-null   uint8  \n",
      " 14  workclass_ Without-pay                 6509 non-null   uint8  \n",
      " 15  workclass_missing                      6509 non-null   uint8  \n",
      " 16  marital-status_ Married-spouse-absent  6509 non-null   uint8  \n",
      " 17  marital-status_ Never-married          6509 non-null   uint8  \n",
      " 18  marital-status_ Separated              6509 non-null   uint8  \n",
      " 19  marital-status_ Widowed                6509 non-null   uint8  \n",
      " 20  marital-status_ married                6509 non-null   uint8  \n",
      " 21  occupation_ Armed-Forces               6509 non-null   uint8  \n",
      " 22  occupation_ Craft-repair               6509 non-null   uint8  \n",
      " 23  occupation_ Exec-managerial            6509 non-null   uint8  \n",
      " 24  occupation_ Farming-fishing            6509 non-null   uint8  \n",
      " 25  occupation_ Handlers-cleaners          6509 non-null   uint8  \n",
      " 26  occupation_ Machine-op-inspct          6509 non-null   uint8  \n",
      " 27  occupation_ Other-service              6509 non-null   uint8  \n",
      " 28  occupation_ Priv-house-serv            6509 non-null   uint8  \n",
      " 29  occupation_ Prof-specialty             6509 non-null   uint8  \n",
      " 30  occupation_ Protective-serv            6509 non-null   uint8  \n",
      " 31  occupation_ Sales                      6509 non-null   uint8  \n",
      " 32  occupation_ Tech-support               6509 non-null   uint8  \n",
      " 33  occupation_ Transport-moving           6509 non-null   uint8  \n",
      " 34  occupation_missing                     6509 non-null   uint8  \n",
      " 35  relationship_ Not-in-family            6509 non-null   uint8  \n",
      " 36  relationship_ Other-relative           6509 non-null   uint8  \n",
      " 37  relationship_ Own-child                6509 non-null   uint8  \n",
      " 38  relationship_ Unmarried                6509 non-null   uint8  \n",
      " 39  relationship_ Wife                     6509 non-null   uint8  \n",
      " 40  race_ Asian-Pac-Islander               6509 non-null   uint8  \n",
      " 41  race_ Black                            6509 non-null   uint8  \n",
      " 42  race_ Other                            6509 non-null   uint8  \n",
      " 43  race_ White                            6509 non-null   uint8  \n",
      "dtypes: float64(6), int64(2), uint8(36)\n",
      "memory usage: 686.5 KB\n"
     ]
    }
   ],
   "source": [
    "X_test.info()"
   ]
  },
  {
   "cell_type": "code",
   "execution_count": 45,
   "id": "e113578c",
   "metadata": {},
   "outputs": [],
   "source": [
    "#metrics WITHOUT MARITAL STATUS\n",
    "#need to first DROP marital status in X_test\n",
    "X_test_drop = X_test.drop(['marital-status_ Married-spouse-absent',\n",
    "                           'marital-status_ Never-married',\n",
    "                          'marital-status_ Separated',\n",
    "                          'marital-status_ Widowed',\n",
    "                          'marital-status_ married',\n",
    "                          ], axis=1)"
   ]
  },
  {
   "cell_type": "code",
   "execution_count": 46,
   "id": "37dd7f41",
   "metadata": {},
   "outputs": [
    {
     "name": "stdout",
     "output_type": "stream",
     "text": [
      "<class 'pandas.core.frame.DataFrame'>\n",
      "Int64Index: 6509 entries, 25482 to 17470\n",
      "Data columns (total 39 columns):\n",
      " #   Column                         Non-Null Count  Dtype  \n",
      "---  ------                         --------------  -----  \n",
      " 0   age                            6509 non-null   float64\n",
      " 1   fnlwgt                         6509 non-null   float64\n",
      " 2   education-num                  6509 non-null   float64\n",
      " 3   sex                            6509 non-null   int64  \n",
      " 4   capital-gain                   6509 non-null   float64\n",
      " 5   capital-loss                   6509 non-null   float64\n",
      " 6   hours-per-week                 6509 non-null   float64\n",
      " 7   native-country                 6509 non-null   int64  \n",
      " 8   workclass_ Local-gov           6509 non-null   uint8  \n",
      " 9   workclass_ Never-worked        6509 non-null   uint8  \n",
      " 10  workclass_ Private             6509 non-null   uint8  \n",
      " 11  workclass_ Self-emp-inc        6509 non-null   uint8  \n",
      " 12  workclass_ Self-emp-not-inc    6509 non-null   uint8  \n",
      " 13  workclass_ State-gov           6509 non-null   uint8  \n",
      " 14  workclass_ Without-pay         6509 non-null   uint8  \n",
      " 15  workclass_missing              6509 non-null   uint8  \n",
      " 16  occupation_ Armed-Forces       6509 non-null   uint8  \n",
      " 17  occupation_ Craft-repair       6509 non-null   uint8  \n",
      " 18  occupation_ Exec-managerial    6509 non-null   uint8  \n",
      " 19  occupation_ Farming-fishing    6509 non-null   uint8  \n",
      " 20  occupation_ Handlers-cleaners  6509 non-null   uint8  \n",
      " 21  occupation_ Machine-op-inspct  6509 non-null   uint8  \n",
      " 22  occupation_ Other-service      6509 non-null   uint8  \n",
      " 23  occupation_ Priv-house-serv    6509 non-null   uint8  \n",
      " 24  occupation_ Prof-specialty     6509 non-null   uint8  \n",
      " 25  occupation_ Protective-serv    6509 non-null   uint8  \n",
      " 26  occupation_ Sales              6509 non-null   uint8  \n",
      " 27  occupation_ Tech-support       6509 non-null   uint8  \n",
      " 28  occupation_ Transport-moving   6509 non-null   uint8  \n",
      " 29  occupation_missing             6509 non-null   uint8  \n",
      " 30  relationship_ Not-in-family    6509 non-null   uint8  \n",
      " 31  relationship_ Other-relative   6509 non-null   uint8  \n",
      " 32  relationship_ Own-child        6509 non-null   uint8  \n",
      " 33  relationship_ Unmarried        6509 non-null   uint8  \n",
      " 34  relationship_ Wife             6509 non-null   uint8  \n",
      " 35  race_ Asian-Pac-Islander       6509 non-null   uint8  \n",
      " 36  race_ Black                    6509 non-null   uint8  \n",
      " 37  race_ Other                    6509 non-null   uint8  \n",
      " 38  race_ White                    6509 non-null   uint8  \n",
      "dtypes: float64(6), int64(2), uint8(31)\n",
      "memory usage: 654.7 KB\n"
     ]
    }
   ],
   "source": [
    "#sanity check\n",
    "X_test_drop.info()"
   ]
  },
  {
   "cell_type": "code",
   "execution_count": 47,
   "id": "17b28a28",
   "metadata": {},
   "outputs": [],
   "source": [
    "gradboost_model_r = GBC.fit(X_test_drop, y_test)"
   ]
  },
  {
   "cell_type": "code",
   "execution_count": 48,
   "id": "b037dbe5",
   "metadata": {},
   "outputs": [
    {
     "name": "stdout",
     "output_type": "stream",
     "text": [
      "Accuracy: 0.88\n",
      "Precision: 0.82\n",
      "Recall: 0.62\n",
      "F1 Score: 0.71\n",
      "Area Under Curve: 0.94\n",
      "Confusion Matrix:\n",
      " [[4793  202]\n",
      " [ 579  935]]\n"
     ]
    }
   ],
   "source": [
    "#metrics WITHOUT MARITAL STATUS\n",
    "GBC_eval_drop =  evaluate_model(gradboost_model_r, X_test_drop, y_test)\n",
    "print('Accuracy:', round(GBC_eval_drop['acc'], 2))\n",
    "print('Precision:', round(GBC_eval_drop['prec'],2))\n",
    "print('Recall:', round(GBC_eval_drop['rec'],2))\n",
    "print('F1 Score:', round(GBC_eval_drop['f1'],2))\n",
    "print('Area Under Curve:', round(GBC_eval_drop['auc'],2))\n",
    "print('Confusion Matrix:\\n', GBC_eval_drop['cm'])"
   ]
  }
 ],
 "metadata": {
  "kernelspec": {
   "display_name": "Python 3 (classification)",
   "language": "python",
   "name": "classification"
  },
  "language_info": {
   "codemirror_mode": {
    "name": "ipython",
    "version": 3
   },
   "file_extension": ".py",
   "mimetype": "text/x-python",
   "name": "python",
   "nbconvert_exporter": "python",
   "pygments_lexer": "ipython3",
   "version": "3.9.7"
  }
 },
 "nbformat": 4,
 "nbformat_minor": 5
}
